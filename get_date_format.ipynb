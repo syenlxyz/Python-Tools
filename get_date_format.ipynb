{
 "cells": [
  {
   "cell_type": "code",
   "execution_count": 1,
   "id": "a7f70070",
   "metadata": {},
   "outputs": [],
   "source": [
    "import re"
   ]
  },
  {
   "cell_type": "code",
   "execution_count": 2,
   "id": "d0f1ad11",
   "metadata": {},
   "outputs": [],
   "source": [
    "def get_date_format(date_string):\n",
    "    date_regex = {\n",
    "        r'^\\d{4}-\\d{2}-\\d{2}$': '%Y-%m-%d',\n",
    "        r'^\\d{4}\\/\\d{2}\\/\\d{2}$': '%Y/%m/%d',\n",
    "        r'^\\d{4}\\.\\d{2}\\.\\d{2}$': '%Y.%m.%d',\n",
    "        r'^\\d{2}-\\d{2}-\\d{4}$': '%d-%m-%Y',\n",
    "        r'^\\d{2}\\/\\d{2}\\/\\d{4}$': '%d/%m/%Y',\n",
    "        r'^\\d{2}\\.\\d{2}\\.\\d{4}$': '%d.%m.%Y',\n",
    "        r'^\\d{2} [A-Za-z]{3} \\d{4}$': '%d %b %Y',\n",
    "        r'^\\d{2} [A-Za-z]+ \\d{4}$': '%d %B %Y',\n",
    "        r'^[A-Za-z]{3} \\d{2}, \\d{4}$': '%b %d, %Y',\n",
    "        r'^[A-Za-z]+ \\d{2}, \\d{4}$': '%B %d, %Y'\n",
    "    }\n",
    "    patterns = list(date_regex.keys())\n",
    "    for pattern in patterns:\n",
    "        if re.match(pattern, date_string):\n",
    "            date_format = date_regex[pattern]\n",
    "            return date_format"
   ]
  },
  {
   "cell_type": "code",
   "execution_count": 3,
   "id": "199162bf",
   "metadata": {},
   "outputs": [
    {
     "name": "stdout",
     "output_type": "stream",
     "text": [
      "2023-10-01: %Y-%m-%d\n",
      "2023/10/01: %Y/%m/%d\n",
      "2023.10.01: %Y.%m.%d\n",
      "01-10-2023: %d-%m-%Y\n",
      "01/10/2023: %d/%m/%Y\n",
      "01.10.2023: %d.%m.%Y\n",
      "01 Oct 2023: %d %b %Y\n",
      "01 October 2023: %d %B %Y\n",
      "Oct 01, 2023: %b %d, %Y\n",
      "October 01, 2023: %B %d, %Y\n"
     ]
    }
   ],
   "source": [
    "test_date = '2023-10-01'\n",
    "test_result = get_date_format(test_date)\n",
    "print(f'{test_date}: {test_result}')\n",
    "test_date = '2023/10/01'\n",
    "test_result = get_date_format(test_date)\n",
    "print(f'{test_date}: {test_result}')\n",
    "test_date = '2023.10.01'\n",
    "test_result = get_date_format(test_date)\n",
    "print(f'{test_date}: {test_result}')\n",
    "test_date = '01-10-2023'\n",
    "test_result = get_date_format(test_date)\n",
    "print(f'{test_date}: {test_result}')\n",
    "test_date = '01/10/2023'\n",
    "test_result = get_date_format(test_date)\n",
    "print(f'{test_date}: {test_result}')\n",
    "test_date = '01.10.2023'\n",
    "test_result = get_date_format(test_date)\n",
    "print(f'{test_date}: {test_result}')\n",
    "test_date = '01 Oct 2023'\n",
    "test_result = get_date_format(test_date)\n",
    "print(f'{test_date}: {test_result}')\n",
    "test_date = '01 October 2023'\n",
    "test_result = get_date_format(test_date)\n",
    "print(f'{test_date}: {test_result}')\n",
    "test_date = 'Oct 01, 2023'\n",
    "test_result = get_date_format(test_date)\n",
    "print(f'{test_date}: {test_result}')\n",
    "test_date = 'October 01, 2023'\n",
    "test_result = get_date_format(test_date)\n",
    "print(f'{test_date}: {test_result}')"
   ]
  },
  {
   "cell_type": "code",
   "execution_count": null,
   "id": "759552cb",
   "metadata": {},
   "outputs": [],
   "source": []
  }
 ],
 "metadata": {
  "kernelspec": {
   "display_name": "base",
   "language": "python",
   "name": "python3"
  },
  "language_info": {
   "codemirror_mode": {
    "name": "ipython",
    "version": 3
   },
   "file_extension": ".py",
   "mimetype": "text/x-python",
   "name": "python",
   "nbconvert_exporter": "python",
   "pygments_lexer": "ipython3",
   "version": "3.12.4"
  }
 },
 "nbformat": 4,
 "nbformat_minor": 5
}
