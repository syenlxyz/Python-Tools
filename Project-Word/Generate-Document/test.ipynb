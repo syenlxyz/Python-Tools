{
 "cells": [
  {
   "cell_type": "code",
   "execution_count": null,
   "id": "bed1eb67",
   "metadata": {},
   "outputs": [],
   "source": [
    "from pathlib import Path\n",
    "from win32com.client import Dispatch"
   ]
  },
  {
   "cell_type": "code",
   "execution_count": 105,
   "id": "3bbc1a0e",
   "metadata": {},
   "outputs": [],
   "source": [
    "input_path = Path.cwd() / 'sample.docx'"
   ]
  },
  {
   "cell_type": "code",
   "execution_count": 106,
   "id": "84794cdd",
   "metadata": {},
   "outputs": [],
   "source": [
    "WdFindWrap  = {\n",
    "    'wdFindAsk': 2,\n",
    "    'wdFindContinue': 1,\n",
    "    'wdFindStop': 0\n",
    "}"
   ]
  },
  {
   "cell_type": "code",
   "execution_count": 107,
   "id": "7bbd2d43",
   "metadata": {},
   "outputs": [],
   "source": [
    "WdReplace = {\n",
    "    'wdReplaceAll': 2,\n",
    "    'wdReplaceNone': 0,\n",
    "    'wdReplaceOne': 1\n",
    "}"
   ]
  },
  {
   "cell_type": "code",
   "execution_count": 108,
   "id": "0d9ccc37",
   "metadata": {},
   "outputs": [],
   "source": [
    "WdHeaderFooterIndex = {\n",
    "    'wdHeaderFooterEvenPages': 3,\n",
    "    'wdHeaderFooterFirstPage': 2,\n",
    "    'wdHeaderFooterPrimary': 1,\n",
    "}"
   ]
  },
  {
   "cell_type": "code",
   "execution_count": 1,
   "id": "7c09c2da",
   "metadata": {},
   "outputs": [],
   "source": [
    "WdSaveFormat = {\n",
    "    'wdFormatDocument': 0,\n",
    "    'wdFormatHTML': 8,\n",
    "    'wdFormatDocumentDefault': 16,\n",
    "    'wdFormatPDF': 17\n",
    "}"
   ]
  },
  {
   "cell_type": "code",
   "execution_count": 109,
   "id": "33b0f931",
   "metadata": {},
   "outputs": [],
   "source": [
    "wrd = Dispatch('Word.Application')\n",
    "wrd.Visible = True"
   ]
  },
  {
   "cell_type": "code",
   "execution_count": null,
   "id": "d0226d2b",
   "metadata": {},
   "outputs": [],
   "source": [
    "import psutil\n",
    "try:\n",
    "    wrd.Documents.Open(str(input_path))\n",
    "except:\n",
    "    process_list = list(psutil.process_iter())\n",
    "    for process in process_list:\n",
    "        if process.name() == 'WinWord.exe':\n",
    "            process.terminate()"
   ]
  },
  {
   "cell_type": "code",
   "execution_count": 111,
   "id": "105c7c86",
   "metadata": {},
   "outputs": [],
   "source": [
    "data = {\n",
    "    'COMPANY': 'SIN KEE CHIANG ESTATE SDN BHD',\n",
    "    'NUMBER': '257853-P',\n",
    "    'PREPARE': 'Poh Moi Hua',\n",
    "    'APPROVE': 'Wong Gin Poh',\n",
    "    'DATE': '06/01/2025'\n",
    "}"
   ]
  },
  {
   "cell_type": "code",
   "execution_count": 112,
   "id": "7457cebc",
   "metadata": {},
   "outputs": [],
   "source": [
    "keys = list(data.keys())"
   ]
  },
  {
   "cell_type": "code",
   "execution_count": 113,
   "id": "18bf96e4",
   "metadata": {},
   "outputs": [],
   "source": [
    "for key in keys:\n",
    "    old = f'${{{key}}}'\n",
    "    new = data[key]\n",
    "    params = {\n",
    "        'FindText': old,\n",
    "        'MatchCase': False,\n",
    "        'MatchWholeWord': True,\n",
    "        'MatchWildcards': False,\n",
    "        'MatchSoundsLike': False,\n",
    "        'MatchAllWordForms': False,\n",
    "        'Forward': True,\n",
    "        'Wrap': WdFindWrap['wdFindContinue'],\n",
    "        'Format': True,\n",
    "        'ReplaceWith': new,\n",
    "        'Replace': WdReplace['wdReplaceAll']\n",
    "    }\n",
    "    wrd.Selection.Find.Execute(**params)\n",
    "    wrd.ActiveDocument.Sections(1).Headers(WdHeaderFooterIndex['wdHeaderFooterPrimary']).Range.Find.Execute(**params)"
   ]
  },
  {
   "cell_type": "code",
   "execution_count": null,
   "id": "ac952aa0",
   "metadata": {},
   "outputs": [],
   "source": [
    "#wrd.ActiveDocument.SaveAs2(str(target_path), FileFormat=WdSaveFormat['wdFormatDocumentDefault'])\n",
    "wrd.ActiveDocument.Close(SaveChanges=True)\n",
    "wrd.Quit()"
   ]
  },
  {
   "cell_type": "code",
   "execution_count": null,
   "id": "5aa7408c",
   "metadata": {},
   "outputs": [],
   "source": []
  }
 ],
 "metadata": {
  "kernelspec": {
   "display_name": "base",
   "language": "python",
   "name": "python3"
  },
  "language_info": {
   "codemirror_mode": {
    "name": "ipython",
    "version": 3
   },
   "file_extension": ".py",
   "mimetype": "text/x-python",
   "name": "python",
   "nbconvert_exporter": "python",
   "pygments_lexer": "ipython3",
   "version": "3.11.7"
  }
 },
 "nbformat": 4,
 "nbformat_minor": 5
}
