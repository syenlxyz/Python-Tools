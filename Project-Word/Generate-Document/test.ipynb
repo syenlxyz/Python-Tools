{
 "cells": [
  {
   "cell_type": "code",
   "execution_count": null,
   "id": "cd33fab9",
   "metadata": {},
   "outputs": [],
   "source": [
    "from docx import Document\n",
    "\n",
    "def extract_all_words(docx_path):\n",
    "    doc = Document(docx_path)\n",
    "    words = []\n",
    "\n",
    "    # Extract words from main document paragraphs\n",
    "    for para in doc.paragraphs:\n",
    "        words.extend(para.text.split())\n",
    "\n",
    "    # Extract words from tables\n",
    "    for table in doc.tables:\n",
    "        for row in table.rows:\n",
    "            for cell in row.cells:\n",
    "                words.extend(cell.text.split())\n",
    "\n",
    "    # Extract words from headers and footers\n",
    "    for section in doc.sections:\n",
    "        header = section.header\n",
    "        for para in header.paragraphs:\n",
    "            words.extend(para.text.split())\n",
    "        for table in header.tables:\n",
    "            for row in table.rows:\n",
    "                for cell in row.cells:\n",
    "                    words.extend(cell.text.split())\n",
    "\n",
    "        footer = section.footer\n",
    "        for para in footer.paragraphs:\n",
    "            words.extend(para.text.split())\n",
    "        for table in footer.tables:\n",
    "            for row in table.rows:\n",
    "                for cell in row.cells:\n",
    "                    words.extend(cell.text.split())\n",
    "\n",
    "    return words\n",
    "\n",
    "# Example usage:\n",
    "# all_words = extract_all_words('your_file.docx')\n",
    "# print(all_words)"
   ]
  },
  {
   "cell_type": "code",
   "execution_count": null,
   "id": "2a6538fe",
   "metadata": {},
   "outputs": [],
   "source": []
  },
  {
   "cell_type": "code",
   "execution_count": null,
   "id": "27e482fa",
   "metadata": {},
   "outputs": [],
   "source": []
  }
 ],
 "metadata": {
  "language_info": {
   "name": "python"
  }
 },
 "nbformat": 4,
 "nbformat_minor": 5
}
