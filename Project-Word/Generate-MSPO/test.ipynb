{
 "cells": [
  {
   "cell_type": "code",
   "execution_count": 1,
   "id": "e8af7baa",
   "metadata": {},
   "outputs": [],
   "source": [
    "from docx import Document\n",
    "from pathlib import Path\n",
    "import re"
   ]
  },
  {
   "cell_type": "code",
   "execution_count": 2,
   "id": "f522add3",
   "metadata": {},
   "outputs": [],
   "source": [
    "input_path = Path.cwd() / 'input.docx'\n",
    "output_path = Path.cwd() / 'output.docx'"
   ]
  },
  {
   "cell_type": "code",
   "execution_count": 3,
   "id": "e8626f91",
   "metadata": {},
   "outputs": [],
   "source": [
    "data = {\n",
    "    'COMPANY_NAME': 'ERUMAS SDN BHD',\n",
    "    'DIRECTOR': 'Liew Ah Luk',\n",
    "    'DATE': '09/09/2025'\n",
    "}\n",
    "keys = list(data.keys())"
   ]
  },
  {
   "cell_type": "code",
   "execution_count": 4,
   "id": "0a20b388",
   "metadata": {},
   "outputs": [],
   "source": [
    "doc = Document(input_path)\n",
    "for paragraph in doc.paragraphs:\n",
    "    pattern = r'\\$\\{(.*?)\\}'\n",
    "    result = re.findall(pattern, paragraph.text)\n",
    "    if result:\n",
    "        key = result[0]\n",
    "        value = data[key]\n",
    "        run = paragraph.runs[0]\n",
    "        run.text = run.text.replace('${%s}' % (key), value)\n",
    "doc.save(output_path)"
   ]
  },
  {
   "cell_type": "code",
   "execution_count": null,
   "id": "cd517e76",
   "metadata": {},
   "outputs": [],
   "source": []
  }
 ],
 "metadata": {
  "kernelspec": {
   "display_name": "base",
   "language": "python",
   "name": "python3"
  },
  "language_info": {
   "codemirror_mode": {
    "name": "ipython",
    "version": 3
   },
   "file_extension": ".py",
   "mimetype": "text/x-python",
   "name": "python",
   "nbconvert_exporter": "python",
   "pygments_lexer": "ipython3",
   "version": "3.11.7"
  }
 },
 "nbformat": 4,
 "nbformat_minor": 5
}
