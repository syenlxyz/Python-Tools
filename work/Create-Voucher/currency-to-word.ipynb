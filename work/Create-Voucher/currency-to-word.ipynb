{
 "cells": [
  {
   "cell_type": "code",
   "execution_count": 1,
   "metadata": {},
   "outputs": [],
   "source": [
    "num_under_20 = {\n",
    "    0: '',\n",
    "    1: 'one',\n",
    "    2: 'two',\n",
    "    3: 'three',\n",
    "    4: 'four',\n",
    "    5: 'five',\n",
    "    6: 'six',\n",
    "    7: 'seven',\n",
    "    8: 'eight',\n",
    "    9: 'nine',\n",
    "    10: 'ten',\n",
    "    11: 'eleven',\n",
    "    12: 'twelve',\n",
    "    13: 'thirteen',\n",
    "    14: 'fourteen',\n",
    "    15: 'fifteen',\n",
    "    16: 'sixteen',\n",
    "    17: 'seventeen',\n",
    "    18: 'eighteen',\n",
    "    19: 'nineteen'\n",
    "}"
   ]
  },
  {
   "cell_type": "code",
   "execution_count": 2,
   "metadata": {},
   "outputs": [],
   "source": [
    "num_under_100 = {\n",
    "    2: 'twenty',\n",
    "    3: 'thirty',\n",
    "    4: 'forty',\n",
    "    5: 'fifty',\n",
    "    6: 'sixty',\n",
    "    7: 'seventy',\n",
    "    8: 'eighty',\n",
    "    9: 'ninety'\n",
    "}"
   ]
  },
  {
   "cell_type": "code",
   "execution_count": 3,
   "metadata": {},
   "outputs": [],
   "source": [
    "num_above_1000 = {\n",
    "    1: 'thousand',\n",
    "    2: 'million',\n",
    "    3: 'biliion',\n",
    "    4: 'trillion'\n",
    "}"
   ]
  },
  {
   "cell_type": "code",
   "execution_count": 4,
   "metadata": {},
   "outputs": [],
   "source": [
    "def currency_to_word(num):\n",
    "    decimal = round(num - int(num), 2)\n",
    "    if decimal:\n",
    "        return ' '.join([currency_to_word(int(num)), 'and cents', currency_to_word(decimal * 100), 'only'])\n",
    "    num_digit = len(str(num))\n",
    "    power = (num_digit - 1) // 3\n",
    "    if num < 20:\n",
    "        return num_under_20[num]\n",
    "    elif num < 100:\n",
    "        return ' '.join([num_under_100[num // 10], currency_to_word(num % 10)])\n",
    "    elif num < 1000:\n",
    "        return ' '.join([currency_to_word(num // 100), 'hundred', currency_to_word(num % 100)])\n",
    "    elif power < 5:\n",
    "        return ' '.join([currency_to_word(num // 1000 ** power), num_above_1000[power], currency_to_word(num % 1000 ** power)])"
   ]
  },
  {
   "cell_type": "code",
   "execution_count": 5,
   "metadata": {},
   "outputs": [
    {
     "data": {
      "text/plain": [
       "'nine million eight hundred seventy six thousand five hundred forty three and cents twenty one only'"
      ]
     },
     "execution_count": 5,
     "metadata": {},
     "output_type": "execute_result"
    }
   ],
   "source": [
    "currency_to_word(9876543.21)"
   ]
  },
  {
   "cell_type": "code",
   "execution_count": null,
   "metadata": {},
   "outputs": [],
   "source": []
  }
 ],
 "metadata": {
  "kernelspec": {
   "display_name": "base",
   "language": "python",
   "name": "python3"
  },
  "language_info": {
   "codemirror_mode": {
    "name": "ipython",
    "version": 3
   },
   "file_extension": ".py",
   "mimetype": "text/x-python",
   "name": "python",
   "nbconvert_exporter": "python",
   "pygments_lexer": "ipython3",
   "version": "3.12.4"
  }
 },
 "nbformat": 4,
 "nbformat_minor": 2
}
