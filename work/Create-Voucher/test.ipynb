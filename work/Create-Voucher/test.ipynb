{
 "cells": [
  {
   "cell_type": "code",
   "execution_count": 1,
   "metadata": {},
   "outputs": [],
   "source": [
    "from docx import Document\n",
    "import re"
   ]
  },
  {
   "cell_type": "code",
   "execution_count": 2,
   "metadata": {},
   "outputs": [],
   "source": [
    "data = {\n",
    "    'Date': '16/08/1995',\n",
    "    'Voucher': 'PV-01/2025-001',\n",
    "    'Payee': 'Agri Bio Multi Supply',\n",
    "    'Ringgit': 'Ten Thousand Only',\n",
    "    'Account1': '10101',\n",
    "    'Particular1': 'Bank Charges',\n",
    "    'Amount1': 'RM5,000.00',\n",
    "    'Account2': '',\n",
    "    'Particular2': '',\n",
    "    'Amount2': '',\n",
    "    'Account3': '',\n",
    "    'Particular3': '',\n",
    "    'Amount3': '',\n",
    "    'Account4': '',\n",
    "    'Particular4': '',\n",
    "    'Amount4': '',\n",
    "    'Account5': '',\n",
    "    'Particular5': '',\n",
    "    'Amount5': '',\n",
    "    'Account6': '',\n",
    "    'Particular6': '',\n",
    "    'Amount6': '',\n",
    "    'Account7': '',\n",
    "    'Particular7': '',\n",
    "    'Amount7': '',\n",
    "    'Account8': '',\n",
    "    'Particular8': '',\n",
    "    'Amount8': '',\n",
    "    'Total': 'RM5,000.00',\n",
    "    'Method': 'Cheque RHB',\n",
    "    'Reference': '000001'\n",
    "}"
   ]
  },
  {
   "cell_type": "code",
   "execution_count": 3,
   "metadata": {},
   "outputs": [],
   "source": [
    "file_path = 'template.docx'\n",
    "doc = Document(file_path)\n",
    "table = doc.tables[0]\n",
    "rows = list(table.rows)\n",
    "for row in rows:\n",
    "    items = list(row.cells)\n",
    "    for item in items:\n",
    "        pattern = r'\\$\\{(.*?)\\}'\n",
    "        result = re.findall(pattern, item.text)\n",
    "        if result:\n",
    "            key = result[0]\n",
    "            value = data[key]\n",
    "            runs = list(item.paragraphs[0].runs)\n",
    "            for index, run in enumerate(runs):\n",
    "                if index == 0:\n",
    "                    run.text = value\n",
    "                else:\n",
    "                    run.text = ''\n",
    "doc.save('output.docx')"
   ]
  },
  {
   "cell_type": "code",
   "execution_count": null,
   "metadata": {},
   "outputs": [],
   "source": []
  }
 ],
 "metadata": {
  "kernelspec": {
   "display_name": "base",
   "language": "python",
   "name": "python3"
  },
  "language_info": {
   "codemirror_mode": {
    "name": "ipython",
    "version": 3
   },
   "file_extension": ".py",
   "mimetype": "text/x-python",
   "name": "python",
   "nbconvert_exporter": "python",
   "pygments_lexer": "ipython3",
   "version": "3.11.7"
  }
 },
 "nbformat": 4,
 "nbformat_minor": 2
}
