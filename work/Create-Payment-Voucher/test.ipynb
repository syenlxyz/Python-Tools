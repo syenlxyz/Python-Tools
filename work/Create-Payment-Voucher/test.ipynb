{
 "cells": [
  {
   "cell_type": "code",
   "execution_count": 51,
   "metadata": {},
   "outputs": [],
   "source": [
    "from datetime import datetime\n",
    "from docx import Document\n",
    "from pathlib import Path\n",
    "import pandas as pd\n",
    "import re"
   ]
  },
  {
   "cell_type": "code",
   "execution_count": 52,
   "metadata": {},
   "outputs": [],
   "source": [
    "num_under_20 = {\n",
    "    0: '',\n",
    "    1: 'One',\n",
    "    2: 'Two',\n",
    "    3: 'Three',\n",
    "    4: 'Four',\n",
    "    5: 'Five',\n",
    "    6: 'Six',\n",
    "    7: 'Seven',\n",
    "    8: 'Eight',\n",
    "    9: 'Nine',\n",
    "    10: 'Ten',\n",
    "    11: 'Eleven',\n",
    "    12: 'Twelve',\n",
    "    13: 'Thirteen',\n",
    "    14: 'Fourteen',\n",
    "    15: 'Fifteen',\n",
    "    16: 'Sixteen',\n",
    "    17: 'Seventeen',\n",
    "    18: 'Eighteen',\n",
    "    19: 'Nineteen'\n",
    "}"
   ]
  },
  {
   "cell_type": "code",
   "execution_count": 53,
   "metadata": {},
   "outputs": [],
   "source": [
    "num_under_100 = {\n",
    "    2: 'Twenty',\n",
    "    3: 'Thirty',\n",
    "    4: 'Forty',\n",
    "    5: 'Fifty',\n",
    "    6: 'Sixty',\n",
    "    7: 'Seventy',\n",
    "    8: 'Eighty',\n",
    "    9: 'Ninety'\n",
    "}"
   ]
  },
  {
   "cell_type": "code",
   "execution_count": 54,
   "metadata": {},
   "outputs": [],
   "source": [
    "num_above_1000 = {\n",
    "    1: 'Thousand',\n",
    "    2: 'Million',\n",
    "    3: 'Biliion',\n",
    "    4: 'Trillion'\n",
    "}"
   ]
  },
  {
   "cell_type": "code",
   "execution_count": 55,
   "metadata": {},
   "outputs": [],
   "source": [
    "def num_to_word(num):\n",
    "    decimal = round(num - int(num), 2)\n",
    "    if decimal:\n",
    "        return ' '.join([num_to_word(int(num)), 'and Cents', num_to_word(int(decimal * 100))])\n",
    "    num_digit = len(str(num))\n",
    "    power = (num_digit - 1) // 3\n",
    "    if num < 20:\n",
    "        return num_under_20[num]\n",
    "    elif num < 100:\n",
    "        return ' '.join([num_under_100[num // 10], num_to_word(num % 10)])\n",
    "    elif num < 1000:\n",
    "        return ' '.join([num_to_word(num // 100), 'Hundred', num_to_word(num % 100)])\n",
    "    elif power < 5:\n",
    "        return ' '.join([num_to_word(num // 1000 ** power), num_above_1000[power], num_to_word(num % 1000 ** power)])"
   ]
  },
  {
   "cell_type": "code",
   "execution_count": 56,
   "metadata": {},
   "outputs": [],
   "source": [
    "input_path = Path.cwd() / 'input'"
   ]
  },
  {
   "cell_type": "code",
   "execution_count": 57,
   "metadata": {},
   "outputs": [],
   "source": [
    "file_list = list(input_path.glob('*.xlsx'))\n",
    "file_path = file_list[0]"
   ]
  },
  {
   "cell_type": "code",
   "execution_count": 58,
   "metadata": {},
   "outputs": [],
   "source": [
    "df = pd.read_excel(file_path)"
   ]
  },
  {
   "cell_type": "code",
   "execution_count": 59,
   "metadata": {},
   "outputs": [],
   "source": [
    "df['Total'] = df['Amount1']\n",
    "df['Ringgit'] = df['Total'].apply(num_to_word).apply(lambda row: ' '.join([item for item in row.split(' ') if item] + ['Only']))\n",
    "df['Date'] = df['Date'].dt.strftime('%d/%m/%Y')\n",
    "df['Account1'] = df['Account1'].astype(str)\n",
    "df['Amount1'] = df['Amount1'].apply(lambda row: f'{row:,.2f}')\n",
    "df['Total'] = df['Total'].apply(lambda row: f'{row:,.2f}')\n",
    "df = df.fillna('')"
   ]
  },
  {
   "cell_type": "code",
   "execution_count": 60,
   "metadata": {},
   "outputs": [],
   "source": [
    "data = df.to_dict('records')[0]"
   ]
  },
  {
   "cell_type": "code",
   "execution_count": 61,
   "metadata": {},
   "outputs": [
    {
     "data": {
      "text/plain": [
       "{'Date': '15/01/2024',\n",
       " 'Voucher': '24/01',\n",
       " 'Payee': 'Kumpulan Wang Simpanan Pekerja',\n",
       " 'Method': 'DDR',\n",
       " 'Reference': '',\n",
       " 'Account1': '50302',\n",
       " 'Particular1': 'EPF Contribution',\n",
       " 'Amount1': '9,979.00',\n",
       " 'Account2': '',\n",
       " 'Particular2': '',\n",
       " 'Amount2': '',\n",
       " 'Account3': '',\n",
       " 'Particular3': '',\n",
       " 'Amount3': '',\n",
       " 'Account4': '',\n",
       " 'Particular4': '',\n",
       " 'Amount4': '',\n",
       " 'Account5': '',\n",
       " 'Particular5': '',\n",
       " 'Amount5': '',\n",
       " 'Account6': '',\n",
       " 'Particular6': '',\n",
       " 'Amount6': '',\n",
       " 'Account7': '',\n",
       " 'Particular7': '',\n",
       " 'Amount7': '',\n",
       " 'Account8': '',\n",
       " 'Particular8': '',\n",
       " 'Amount8': '',\n",
       " 'Total': '9,979.00',\n",
       " 'Ringgit': 'Nine Thousand Nine Hundred Seventy Nine Only'}"
      ]
     },
     "execution_count": 61,
     "metadata": {},
     "output_type": "execute_result"
    }
   ],
   "source": [
    "data"
   ]
  },
  {
   "cell_type": "code",
   "execution_count": 62,
   "metadata": {},
   "outputs": [],
   "source": [
    "temp_path = Path.cwd() / 'temp'\n",
    "temp_path = list(temp_path.glob('*.docx'))[1]"
   ]
  },
  {
   "cell_type": "code",
   "execution_count": 63,
   "metadata": {},
   "outputs": [],
   "source": [
    "doc = Document(temp_path)\n",
    "table = doc.tables[0]\n",
    "rows = list(table.rows)\n",
    "for row in rows:\n",
    "    items = list(row.cells)\n",
    "    for item in items:\n",
    "        pattern = r'\\$\\{(.*?)\\}'\n",
    "        result = re.findall(pattern, item.text)\n",
    "        if result:\n",
    "            key = result[0]\n",
    "            value = data[key]\n",
    "            runs = list(item.paragraphs[0].runs)\n",
    "            for index, run in enumerate(runs):\n",
    "                if index == 0:\n",
    "                    run.text = value\n",
    "                else:\n",
    "                    run.text = ''\n",
    "doc.save('output.docx')"
   ]
  },
  {
   "cell_type": "code",
   "execution_count": null,
   "metadata": {},
   "outputs": [],
   "source": []
  }
 ],
 "metadata": {
  "kernelspec": {
   "display_name": "base",
   "language": "python",
   "name": "python3"
  },
  "language_info": {
   "codemirror_mode": {
    "name": "ipython",
    "version": 3
   },
   "file_extension": ".py",
   "mimetype": "text/x-python",
   "name": "python",
   "nbconvert_exporter": "python",
   "pygments_lexer": "ipython3",
   "version": "3.12.4"
  }
 },
 "nbformat": 4,
 "nbformat_minor": 2
}
