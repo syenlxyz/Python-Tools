{
 "cells": [
  {
   "cell_type": "code",
   "execution_count": 1,
   "metadata": {},
   "outputs": [],
   "source": [
    "from docx import Document\n",
    "from pathlib import Path\n",
    "import pandas as pd\n",
    "import re"
   ]
  },
  {
   "cell_type": "code",
   "execution_count": 2,
   "metadata": {},
   "outputs": [],
   "source": [
    "Less_Than_Twenty = {\n",
    "    0: '',\n",
    "    1: 'One',\n",
    "    2: 'Two',\n",
    "    3: 'Three',\n",
    "    4: 'Four',\n",
    "    5: 'Five',\n",
    "    6: 'Six',\n",
    "    7: 'Seven',\n",
    "    8: 'Eight',\n",
    "    9: 'Nine',\n",
    "    10: 'Ten',\n",
    "    11: 'Eleven',\n",
    "    12: 'Twelve',\n",
    "    13: 'Thirteen',\n",
    "    14: 'Fourteen',\n",
    "    15: 'Fifteen',\n",
    "    16: 'Sixteen',\n",
    "    17: 'Seventeen',\n",
    "    18: 'Eighteen',\n",
    "    19: 'Nineteen'\n",
    "}"
   ]
  },
  {
   "cell_type": "code",
   "execution_count": 3,
   "metadata": {},
   "outputs": [],
   "source": [
    "Less_Than_Hundred = {\n",
    "    2: 'Twenty',\n",
    "    3: 'Thirty',\n",
    "    4: 'Forty',\n",
    "    5: 'Fifty',\n",
    "    6: 'Sixty',\n",
    "    7: 'Seventy',\n",
    "    8: 'Eighty',\n",
    "    9: 'Ninety'\n",
    "}"
   ]
  },
  {
   "cell_type": "code",
   "execution_count": 4,
   "metadata": {},
   "outputs": [],
   "source": [
    "More_Than_Thousand = {\n",
    "    1: 'Thousand',\n",
    "    2: 'Million',\n",
    "    3: 'Biliion',\n",
    "    4: 'Trillion'\n",
    "}"
   ]
  },
  {
   "cell_type": "code",
   "execution_count": 5,
   "metadata": {},
   "outputs": [],
   "source": [
    "def num_to_word(num):\n",
    "    if type(num) == float:\n",
    "        decimal = round(num - int(num), 2)\n",
    "        if decimal:\n",
    "            text = ' '.join([num_to_word(int(num)), 'and Cents', num_to_word(int(decimal * 100)), 'Only'])\n",
    "        else:\n",
    "            text = ' '.join([num_to_word(int(num)), 'Only'])\n",
    "        text = text.replace('  ', ' ')\n",
    "        return text\n",
    "    num_digit = len(str(num))\n",
    "    power = (num_digit - 1) // 3\n",
    "    if num < 20:\n",
    "        text = Less_Than_Twenty[num]\n",
    "        return text\n",
    "    elif num < 100:\n",
    "        text = ' '.join([Less_Than_Hundred[num // 10], num_to_word(num % 10)])\n",
    "        return text\n",
    "    elif num < 1000:\n",
    "        text = ' '.join([num_to_word(num // 100), 'Hundred', num_to_word(num % 100)])\n",
    "        return text\n",
    "    elif power < 5:\n",
    "        text = ' '.join([num_to_word(num // 1000 ** power), More_Than_Thousand[power], num_to_word(num % 1000 ** power)])\n",
    "        return text"
   ]
  },
  {
   "cell_type": "code",
   "execution_count": 6,
   "metadata": {},
   "outputs": [],
   "source": [
    "def get_table(file_path):\n",
    "    df = pd.read_excel(file_path)\n",
    "    \n",
    "    amounts = ['Amount' + str(i + 1) for i in range(8)]\n",
    "    for index, amount in enumerate(amounts):\n",
    "        if index == 0:\n",
    "            df['Total'] = df[amount]\n",
    "        elif not df[amount].isna().sum():\n",
    "            df['Total'] = df['Total'] + df[amount]\n",
    "    df['Ringgit'] = df['Total'].apply(num_to_word)\n",
    "    \n",
    "    df['Date'] = df['Date'].dt.strftime('%d/%m/%Y')\n",
    "    for amount in amounts:\n",
    "        if not df[amount].isna().sum():\n",
    "            df[amount] = df[amount].apply(lambda row: f'{row:,.2f}')\n",
    "    df['Total'] = df['Total'].apply(lambda row: f'{row:,.2f}')\n",
    "    df = df.fillna('')\n",
    "    \n",
    "    table = df.to_dict('records')\n",
    "    return table"
   ]
  },
  {
   "cell_type": "code",
   "execution_count": 7,
   "metadata": {},
   "outputs": [],
   "source": [
    "input_path = Path.cwd() / 'input'\n",
    "output_path = Path.cwd() / 'output'\n",
    "template_path = Path.cwd() / 'template'"
   ]
  },
  {
   "cell_type": "code",
   "execution_count": 8,
   "metadata": {},
   "outputs": [
    {
     "data": {
      "text/plain": [
       "WindowsPath('c:/Users/syenl/Documents/Python-Tools/work/voucher/input/payment-voucher.xlsx')"
      ]
     },
     "execution_count": 8,
     "metadata": {},
     "output_type": "execute_result"
    }
   ],
   "source": [
    "file_list = list(input_path.glob('*.xlsx'))\n",
    "file_path = file_list[0]\n",
    "file_path"
   ]
  },
  {
   "cell_type": "code",
   "execution_count": 9,
   "metadata": {},
   "outputs": [
    {
     "data": {
      "text/plain": [
       "WindowsPath('c:/Users/syenl/Documents/Python-Tools/work/voucher/template/payment-voucher.docx')"
      ]
     },
     "execution_count": 9,
     "metadata": {},
     "output_type": "execute_result"
    }
   ],
   "source": [
    "template = list(template_path.glob(f'{file_path.stem}.docx'))[0]\n",
    "template"
   ]
  },
  {
   "cell_type": "code",
   "execution_count": 10,
   "metadata": {},
   "outputs": [],
   "source": [
    "table = get_table(file_path)"
   ]
  },
  {
   "cell_type": "code",
   "execution_count": 11,
   "metadata": {},
   "outputs": [],
   "source": [
    "def create_voucher(template, data, target_path):\n",
    "    doc = Document(template)\n",
    "    table = doc.tables[0]\n",
    "    for row in table.rows:\n",
    "        for item in row.cells:\n",
    "            pattern = r'\\$\\{(.*?)\\}'\n",
    "            result = re.findall(pattern, item.text)\n",
    "            if result:\n",
    "                key = result[0]\n",
    "                value = data[key]\n",
    "                for index, run in enumerate(item.paragraphs[0].runs):\n",
    "                    if index == 0:\n",
    "                        run.text = str(value)\n",
    "                    else:\n",
    "                        run.text = ''\n",
    "    doc.save(target_path)"
   ]
  },
  {
   "cell_type": "code",
   "execution_count": 12,
   "metadata": {},
   "outputs": [],
   "source": [
    "for index, data in enumerate(table):\n",
    "    target_path = output_path / f'{file_path.stem}-{index + 1}.docx'\n",
    "    create_voucher(template, data, target_path)"
   ]
  },
  {
   "cell_type": "code",
   "execution_count": null,
   "metadata": {},
   "outputs": [],
   "source": []
  }
 ],
 "metadata": {
  "kernelspec": {
   "display_name": "base",
   "language": "python",
   "name": "python3"
  },
  "language_info": {
   "codemirror_mode": {
    "name": "ipython",
    "version": 3
   },
   "file_extension": ".py",
   "mimetype": "text/x-python",
   "name": "python",
   "nbconvert_exporter": "python",
   "pygments_lexer": "ipython3",
   "version": "3.12.4"
  }
 },
 "nbformat": 4,
 "nbformat_minor": 2
}
