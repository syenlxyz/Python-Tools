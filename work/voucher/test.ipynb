{
 "cells": [
  {
   "cell_type": "code",
   "execution_count": 2,
   "metadata": {},
   "outputs": [],
   "source": [
    "data = {\n",
    "    'Date': '16/08/1995',\n",
    "    'Voucher': 'PV-01/2025-001',\n",
    "    'Payee': 'Agri Bio Multi Supply',\n",
    "    'Ringgit': 'Ten Thousand Only',\n",
    "    'Account1': '10101',\n",
    "    'Particular1': 'Bank Charges',\n",
    "    'Amount1': 'RM5,000.00',\n",
    "    'Account2': '',\n",
    "    'Particular2': '',\n",
    "    'Amount2': '',\n",
    "    'Account3': '',\n",
    "    'Particular3': '',\n",
    "    'Amount3': '',\n",
    "    'Account4': '',\n",
    "    'Particular4': '',\n",
    "    'Amount4': '',\n",
    "    'Account5': '',\n",
    "    'Particular5': '',\n",
    "    'Amount5': '',\n",
    "    'Account6': '',\n",
    "    'Particular6': '',\n",
    "    'Amount6': '',\n",
    "    'Account7': '',\n",
    "    'Particular7': '',\n",
    "    'Amount7': '',\n",
    "    'Account8': '',\n",
    "    'Particular8': '',\n",
    "    'Amount8': '',\n",
    "    'Total': 'RM5,000.00',\n",
    "    'Method': 'Cheque RHB',\n",
    "    'Reference': '000001'\n",
    "}"
   ]
  },
  {
   "cell_type": "code",
   "execution_count": 3,
   "metadata": {},
   "outputs": [],
   "source": [
    "file_path = 'template.docx'\n",
    "doc = Document(file_path)\n",
    "table = doc.tables[0]\n",
    "rows = list(table.rows)\n",
    "for row in rows:\n",
    "    items = list(row.cells)\n",
    "    for item in items:\n",
    "        pattern = r'\\$\\{(.*?)\\}'\n",
    "        result = re.findall(pattern, item.text)\n",
    "        if result:\n",
    "            key = result[0]\n",
    "            value = data[key]\n",
    "            runs = list(item.paragraphs[0].runs)\n",
    "            for index, run in enumerate(runs):\n",
    "                if index == 0:\n",
    "                    run.text = value\n",
    "                else:\n",
    "                    run.text = ''\n",
    "doc.save('output.docx')"
   ]
  },
  {
   "cell_type": "code",
   "execution_count": null,
   "metadata": {},
   "outputs": [],
   "source": []
  },
  {
   "cell_type": "code",
   "execution_count": 22,
   "metadata": {},
   "outputs": [],
   "source": [
    "from docx import Document\n",
    "from pathlib import Path\n",
    "import re"
   ]
  },
  {
   "cell_type": "code",
   "execution_count": 23,
   "metadata": {},
   "outputs": [],
   "source": [
    "temp_path = Path.cwd() / 'temp'"
   ]
  },
  {
   "cell_type": "code",
   "execution_count": 24,
   "metadata": {},
   "outputs": [],
   "source": [
    "file_list = list(temp_path.iterdir())"
   ]
  },
  {
   "cell_type": "code",
   "execution_count": 25,
   "metadata": {},
   "outputs": [
    {
     "name": "stdout",
     "output_type": "stream",
     "text": [
      "journal-voucher.docx\n",
      "Date\n",
      "Voucher\n",
      "Account1\n",
      "Particular1\n",
      "Debit1\n",
      "Credit1\n",
      "Account2\n",
      "Particular2\n",
      "Debit2\n",
      "Credit2\n",
      "Account3\n",
      "Particular3\n",
      "Debit3\n",
      "Credit3\n",
      "Account4\n",
      "Particular4\n",
      "Debit4\n",
      "Credit4\n",
      "Account5\n",
      "Particular5\n",
      "Debit5\n",
      "Credit5\n",
      "Account6\n",
      "Particular6\n",
      "Debit6\n",
      "Credit6\n",
      "Account7\n",
      "Particular7\n",
      "Debit7\n",
      "Credit7\n",
      "Account8\n",
      "Particular8\n",
      "Debit8\n",
      "Credit8\n",
      "Account9\n",
      "Particular9\n",
      "Debit9\n",
      "Credit9\n",
      "Account10\n",
      "Particular10\n",
      "Debit10\n",
      "Credit10\n",
      "Account11\n",
      "Particular11\n",
      "Debit11\n",
      "Credit11\n",
      "Account12\n",
      "Particular12\n",
      "Debit12\n",
      "Credit12\n",
      "DebitTotal\n",
      "CreditTotal\n"
     ]
    }
   ],
   "source": [
    "results = []\n",
    "file_path = file_list[0]\n",
    "doc = Document(file_path)\n",
    "table = doc.tables[0]\n",
    "rows = list(table.rows)\n",
    "for row in rows:\n",
    "    items = list(row.cells)\n",
    "    for item in items:\n",
    "        pattern = r'\\$\\{(.*?)\\}'\n",
    "        result = re.findall(pattern, item.text)\n",
    "        if result:\n",
    "            if result[0] not in results:\n",
    "                results.append(result[0])\n",
    "print(file_path.name)\n",
    "for result in results:\n",
    "    print(result)"
   ]
  },
  {
   "cell_type": "code",
   "execution_count": 26,
   "metadata": {},
   "outputs": [
    {
     "name": "stdout",
     "output_type": "stream",
     "text": [
      "payment-voucher.docx\n",
      "Date\n",
      "Voucher\n",
      "Payee\n",
      "Ringgit\n",
      "Account1\n",
      "Particular1\n",
      "Amount1\n",
      "Account2\n",
      "Particular2\n",
      "Amount2\n",
      "Account3\n",
      "Particular3\n",
      "Amount3\n",
      "Account4\n",
      "Particular4\n",
      "Amount4\n",
      "Account5\n",
      "Particular5\n",
      "Amount5\n",
      "Account6\n",
      "Particular6\n",
      "Amount6\n",
      "Account7\n",
      "Particular7\n",
      "Amount7\n",
      "Account8\n",
      "Particular8\n",
      "Amount8\n",
      "Total\n",
      "Method\n",
      "Reference\n"
     ]
    }
   ],
   "source": [
    "results = []\n",
    "file_path = file_list[1]\n",
    "doc = Document(file_path)\n",
    "table = doc.tables[0]\n",
    "rows = list(table.rows)\n",
    "for row in rows:\n",
    "    items = list(row.cells)\n",
    "    for item in items:\n",
    "        pattern = r'\\$\\{(.*?)\\}'\n",
    "        result = re.findall(pattern, item.text)\n",
    "        if result:\n",
    "            if result[0] not in results:\n",
    "                results.append(result[0])\n",
    "print(file_path.name)\n",
    "for result in results:\n",
    "    print(result)"
   ]
  },
  {
   "cell_type": "code",
   "execution_count": 27,
   "metadata": {},
   "outputs": [
    {
     "name": "stdout",
     "output_type": "stream",
     "text": [
      "receipt-voucher.docx\n",
      "Date\n",
      "Voucher\n",
      "Payer\n",
      "Ringgit\n",
      "Account1\n",
      "Particular1\n",
      "Amount1\n",
      "Account2\n",
      "Particular2\n",
      "Amount2\n",
      "Account3\n",
      "Particular3\n",
      "Amount3\n",
      "Account4\n",
      "Particular4\n",
      "Amount4\n",
      "Account5\n",
      "Particular5\n",
      "Amount5\n",
      "Account6\n",
      "Particular6\n",
      "Amount6\n",
      "Account7\n",
      "Particular7\n",
      "Amount7\n",
      "Account8\n",
      "Particular8\n",
      "Amount8\n",
      "Total\n",
      "Method\n",
      "Reference\n"
     ]
    }
   ],
   "source": [
    "results = []\n",
    "file_path = file_list[2]\n",
    "doc = Document(file_path)\n",
    "table = doc.tables[0]\n",
    "rows = list(table.rows)\n",
    "for row in rows:\n",
    "    items = list(row.cells)\n",
    "    for item in items:\n",
    "        pattern = r'\\$\\{(.*?)\\}'\n",
    "        result = re.findall(pattern, item.text)\n",
    "        if result:\n",
    "            if result[0] not in results:\n",
    "                results.append(result[0])\n",
    "print(file_path.name)\n",
    "for result in results:\n",
    "    print(result)"
   ]
  },
  {
   "cell_type": "code",
   "execution_count": null,
   "metadata": {},
   "outputs": [],
   "source": []
  },
  {
   "cell_type": "code",
   "execution_count": null,
   "metadata": {},
   "outputs": [],
   "source": []
  },
  {
   "cell_type": "code",
   "execution_count": null,
   "metadata": {},
   "outputs": [],
   "source": []
  },
  {
   "cell_type": "code",
   "execution_count": null,
   "metadata": {},
   "outputs": [],
   "source": []
  }
 ],
 "metadata": {
  "kernelspec": {
   "display_name": "base",
   "language": "python",
   "name": "python3"
  },
  "language_info": {
   "codemirror_mode": {
    "name": "ipython",
    "version": 3
   },
   "file_extension": ".py",
   "mimetype": "text/x-python",
   "name": "python",
   "nbconvert_exporter": "python",
   "pygments_lexer": "ipython3",
   "version": "3.12.4"
  }
 },
 "nbformat": 4,
 "nbformat_minor": 2
}
