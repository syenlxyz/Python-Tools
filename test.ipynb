{
 "cells": [
  {
   "cell_type": "code",
   "execution_count": 9,
   "metadata": {},
   "outputs": [],
   "source": [
    "from pathlib import Path"
   ]
  },
  {
   "cell_type": "code",
   "execution_count": 10,
   "metadata": {},
   "outputs": [
    {
     "name": "stdout",
     "output_type": "stream",
     "text": [
      "c:\\Users\\syenl\\Desktop\\Python-Tools\\Project-Office\\Compress-ZIP-File\\input\n",
      "c:\\Users\\syenl\\Desktop\\Python-Tools\\Project-Office\\Compress-ZIP-File\\output\n",
      "c:\\Users\\syenl\\Desktop\\Python-Tools\\Project-Word\\Create-Payment-Voucher\\input\n",
      "c:\\Users\\syenl\\Desktop\\Python-Tools\\Project-Word\\Create-Payment-Voucher\\output\n"
     ]
    }
   ],
   "source": [
    "path_list = list(Path.cwd().glob('**/*'))\n",
    "for path in path_list:\n",
    "    name_list = ['input', 'output']\n",
    "    if path.is_dir() and path.name in name_list:\n",
    "        print(path)\n",
    "        #shutil.rmtree(str(path))"
   ]
  },
  {
   "cell_type": "code",
   "execution_count": null,
   "metadata": {},
   "outputs": [],
   "source": []
  }
 ],
 "metadata": {
  "kernelspec": {
   "display_name": "base",
   "language": "python",
   "name": "python3"
  },
  "language_info": {
   "codemirror_mode": {
    "name": "ipython",
    "version": 3
   },
   "file_extension": ".py",
   "mimetype": "text/x-python",
   "name": "python",
   "nbconvert_exporter": "python",
   "pygments_lexer": "ipython3",
   "version": "3.11.7"
  }
 },
 "nbformat": 4,
 "nbformat_minor": 2
}
