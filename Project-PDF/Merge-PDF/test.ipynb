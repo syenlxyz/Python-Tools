{
 "cells": [
  {
   "cell_type": "code",
   "execution_count": 1,
   "metadata": {},
   "outputs": [],
   "source": [
    "file_list = ['a', 'b', 'c', 'd', 'e', 'f', 'g']"
   ]
  },
  {
   "cell_type": "code",
   "execution_count": 2,
   "metadata": {},
   "outputs": [
    {
     "data": {
      "text/plain": [
       "['a', 'e', 'b', 'f', 'c', 'g', 'd']"
      ]
     },
     "execution_count": 2,
     "metadata": {},
     "output_type": "execute_result"
    }
   ],
   "source": [
    "num_file = len(file_list)\n",
    "num_split = num_file // 2 + 1\n",
    "result = []\n",
    "for index in range(num_split):\n",
    "    file_path = file_list[index]\n",
    "    result.append(file_path)\n",
    "    if index + num_split < num_file:\n",
    "        file_path = file_list[index + num_split]\n",
    "        result.append(file_path)\n",
    "result"
   ]
  },
  {
   "cell_type": "code",
   "execution_count": 3,
   "metadata": {},
   "outputs": [
    {
     "data": {
      "text/plain": [
       "['a', 'e', 'b', 'f', 'c', 'g', 'd']"
      ]
     },
     "execution_count": 3,
     "metadata": {},
     "output_type": "execute_result"
    }
   ],
   "source": [
    "num_file = len(file_list)\n",
    "num_top = num_file // 2 + 1\n",
    "num_bottom = num_file - num_top\n",
    "top_list = [i * 2 for i in range(num_top)]\n",
    "bottom_list = [i * 2 + 1 for i in range(num_bottom)]\n",
    "order_list = top_list + bottom_list\n",
    "index_list = [order_list.index(value) for value in range(num_file)]\n",
    "[file_list[index] for index in index_list]"
   ]
  },
  {
   "cell_type": "code",
   "execution_count": null,
   "metadata": {},
   "outputs": [],
   "source": []
  }
 ],
 "metadata": {
  "kernelspec": {
   "display_name": "base",
   "language": "python",
   "name": "python3"
  },
  "language_info": {
   "codemirror_mode": {
    "name": "ipython",
    "version": 3
   },
   "file_extension": ".py",
   "mimetype": "text/x-python",
   "name": "python",
   "nbconvert_exporter": "python",
   "pygments_lexer": "ipython3",
   "version": "3.12.4"
  }
 },
 "nbformat": 4,
 "nbformat_minor": 2
}
