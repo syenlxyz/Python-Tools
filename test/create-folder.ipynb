{
 "cells": [
  {
   "cell_type": "code",
   "execution_count": 45,
   "id": "ffa02539",
   "metadata": {},
   "outputs": [],
   "source": [
    "from pathlib import Path"
   ]
  },
  {
   "cell_type": "code",
   "execution_count": 46,
   "id": "99774f1a",
   "metadata": {},
   "outputs": [],
   "source": [
    "input_path = Path.cwd()  / 'input'\n",
    "output_path = Path.cwd()  / 'output'"
   ]
  },
  {
   "cell_type": "code",
   "execution_count": 47,
   "id": "1ed5a299",
   "metadata": {},
   "outputs": [],
   "source": [
    "path_list = list(input_path.iterdir())\n",
    "folder_list = []\n",
    "for path in path_list:\n",
    "    if path.is_dir():\n",
    "        folder_list.append(path)"
   ]
  },
  {
   "cell_type": "code",
   "execution_count": 48,
   "id": "bcb17bbc",
   "metadata": {},
   "outputs": [],
   "source": [
    "for folder_path in folder_list:\n",
    "    target_folder = output_path / folder_path.stem\n",
    "    target_folder.mkdir(parents=False, exist_ok=False)\n",
    "\n",
    "    file_list = list(folder_path.iterdir())\n",
    "    for file_path in file_list:\n",
    "        target_path = target_folder / file_path.stem\n",
    "        target_path.mkdir(parents=False, exist_ok=False)"
   ]
  },
  {
   "cell_type": "code",
   "execution_count": null,
   "id": "a68e6826",
   "metadata": {},
   "outputs": [],
   "source": []
  }
 ],
 "metadata": {
  "kernelspec": {
   "display_name": "base",
   "language": "python",
   "name": "python3"
  },
  "language_info": {
   "codemirror_mode": {
    "name": "ipython",
    "version": 3
   },
   "file_extension": ".py",
   "mimetype": "text/x-python",
   "name": "python",
   "nbconvert_exporter": "python",
   "pygments_lexer": "ipython3",
   "version": "3.11.7"
  }
 },
 "nbformat": 4,
 "nbformat_minor": 5
}
