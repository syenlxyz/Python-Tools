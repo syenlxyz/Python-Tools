{
 "cells": [
  {
   "cell_type": "code",
   "execution_count": 1,
   "id": "23134637",
   "metadata": {},
   "outputs": [],
   "source": [
    "import qrcode"
   ]
  },
  {
   "cell_type": "code",
   "execution_count": 2,
   "id": "3f480986",
   "metadata": {},
   "outputs": [],
   "source": [
    "church_url = 'https://maps.app.goo.gl/HEGv2ZvpLHkrok2LA'"
   ]
  },
  {
   "cell_type": "code",
   "execution_count": 3,
   "id": "0ccd26a2",
   "metadata": {},
   "outputs": [],
   "source": [
    "church_img = qrcode.make(church_url)"
   ]
  },
  {
   "cell_type": "code",
   "execution_count": 4,
   "id": "e5e5f906",
   "metadata": {},
   "outputs": [],
   "source": [
    "church_img.save('church_qr.png')"
   ]
  },
  {
   "cell_type": "code",
   "execution_count": 5,
   "id": "d01801ac",
   "metadata": {},
   "outputs": [],
   "source": [
    "dinner_url = 'https://maps.app.goo.gl/hzQqEGicECapfbW76'"
   ]
  },
  {
   "cell_type": "code",
   "execution_count": 6,
   "id": "e5bcb3c6",
   "metadata": {},
   "outputs": [],
   "source": [
    "dinner_image = qrcode.make(dinner_url)"
   ]
  },
  {
   "cell_type": "code",
   "execution_count": 7,
   "id": "2b380862",
   "metadata": {},
   "outputs": [],
   "source": [
    "dinner_image.save('dinner_qr.png')"
   ]
  },
  {
   "cell_type": "code",
   "execution_count": null,
   "id": "35ec8680",
   "metadata": {},
   "outputs": [],
   "source": []
  }
 ],
 "metadata": {
  "kernelspec": {
   "display_name": "base",
   "language": "python",
   "name": "python3"
  },
  "language_info": {
   "codemirror_mode": {
    "name": "ipython",
    "version": 3
   },
   "file_extension": ".py",
   "mimetype": "text/x-python",
   "name": "python",
   "nbconvert_exporter": "python",
   "pygments_lexer": "ipython3",
   "version": "3.11.7"
  }
 },
 "nbformat": 4,
 "nbformat_minor": 5
}
