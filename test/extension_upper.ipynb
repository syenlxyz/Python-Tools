{
 "cells": [
  {
   "cell_type": "code",
   "execution_count": 16,
   "id": "20c3666b",
   "metadata": {},
   "outputs": [],
   "source": [
    "from pathlib import Path"
   ]
  },
  {
   "cell_type": "code",
   "execution_count": 17,
   "id": "7f149f80",
   "metadata": {},
   "outputs": [],
   "source": [
    "input_path = Path.cwd() / 'input'"
   ]
  },
  {
   "cell_type": "code",
   "execution_count": 18,
   "id": "b5479c7a",
   "metadata": {},
   "outputs": [],
   "source": [
    "path_list = list(input_path.glob('**/*'))"
   ]
  },
  {
   "cell_type": "code",
   "execution_count": 19,
   "id": "64909a0e",
   "metadata": {},
   "outputs": [],
   "source": [
    "file_list = []\n",
    "for path in path_list:\n",
    "    if path.is_file():\n",
    "        file_list.append(path)"
   ]
  },
  {
   "cell_type": "code",
   "execution_count": 20,
   "id": "9c2226a7",
   "metadata": {},
   "outputs": [],
   "source": [
    "for file_path in file_list:\n",
    "    suffix = file_path.suffix\n",
    "    target_path = file_path.with_suffix(suffix.upper())\n",
    "    file_path.rename(target_path)"
   ]
  }
 ],
 "metadata": {
  "kernelspec": {
   "display_name": "base",
   "language": "python",
   "name": "python3"
  },
  "language_info": {
   "codemirror_mode": {
    "name": "ipython",
    "version": 3
   },
   "file_extension": ".py",
   "mimetype": "text/x-python",
   "name": "python",
   "nbconvert_exporter": "python",
   "pygments_lexer": "ipython3",
   "version": "3.11.7"
  }
 },
 "nbformat": 4,
 "nbformat_minor": 5
}
