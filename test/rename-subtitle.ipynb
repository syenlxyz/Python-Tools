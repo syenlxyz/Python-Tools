{
 "cells": [
  {
   "cell_type": "code",
   "execution_count": 13,
   "id": "c7e364e1",
   "metadata": {},
   "outputs": [],
   "source": [
    "from pathlib import Path\n",
    "import re"
   ]
  },
  {
   "cell_type": "code",
   "execution_count": 14,
   "id": "1e4174a9",
   "metadata": {},
   "outputs": [],
   "source": [
    "def get_episode(file_path):\n",
    "    patterns = [\n",
    "        r'\\[E\\d+\\]',\n",
    "        r'\\[\\d+(v\\d)?\\]',\n",
    "        r'\\[\\d+\\s?END\\]',\n",
    "        r'\\[\\d+_\\d+\\]',\n",
    "        r'-\\s?\\d+',\n",
    "        r'\\.\\d+',\n",
    "        r'第\\d+话',\n",
    "        r'第\\d+話'\n",
    "    ]\n",
    "    \n",
    "    for pattern in patterns:\n",
    "        result = re.search(pattern, file_path.stem)\n",
    "        if result:\n",
    "            text = result.group()\n",
    "            search = re.search(r'\\d+', text)\n",
    "            episode = search.group()\n",
    "            return episode"
   ]
  },
  {
   "cell_type": "code",
   "execution_count": 15,
   "id": "83f1cd86",
   "metadata": {},
   "outputs": [],
   "source": [
    "input_path = Path.cwd()  / 'input'\n",
    "output_path = Path.cwd()  / 'output'"
   ]
  },
  {
   "cell_type": "code",
   "execution_count": 16,
   "id": "c677c770",
   "metadata": {},
   "outputs": [],
   "source": [
    "folder_list = list(input_path.iterdir())\n",
    "folder_path = folder_list[0]\n",
    "file_list = list(folder_path.glob('*.mkv'))\n",
    "caption_list = list(folder_path.glob('*.ass'))"
   ]
  },
  {
   "cell_type": "code",
   "execution_count": 17,
   "id": "5ddb7628",
   "metadata": {},
   "outputs": [],
   "source": [
    "for file_path in file_list:\n",
    "    episode = get_episode(file_path)\n",
    "    for caption_path in caption_list:\n",
    "        number = get_episode(caption_path)\n",
    "        if number == episode:\n",
    "            old_name = caption_path.name.split('.')[0]\n",
    "            new_name = file_path.stem\n",
    "            caption_name = caption_path.name.replace(old_name, new_name)\n",
    "            target_path = folder_path / caption_name\n",
    "            caption_path.rename(target_path)"
   ]
  },
  {
   "cell_type": "code",
   "execution_count": null,
   "id": "b8c8db83",
   "metadata": {},
   "outputs": [],
   "source": []
  }
 ],
 "metadata": {
  "language_info": {
   "name": "python"
  }
 },
 "nbformat": 4,
 "nbformat_minor": 5
}
