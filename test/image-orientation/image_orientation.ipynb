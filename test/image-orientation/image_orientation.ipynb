{
 "cells": [
  {
   "cell_type": "code",
   "execution_count": 1,
   "id": "ca4480ff",
   "metadata": {},
   "outputs": [],
   "source": [
    "from pathlib import Path\n",
    "from PIL import Image"
   ]
  },
  {
   "cell_type": "code",
   "execution_count": 2,
   "id": "2131ac8f",
   "metadata": {},
   "outputs": [
    {
     "name": "stdout",
     "output_type": "stream",
     "text": [
      "width: 1332, height: 749\n",
      "landscape\n"
     ]
    }
   ],
   "source": [
    "file_path = Path.cwd() / 'landscape.jpg'\n",
    "with Image.open(file_path) as img:\n",
    "    width, height = img.size\n",
    "print(f'width: {width}, height: {height}')\n",
    "if width > height:\n",
    "    print(\"landscape\")\n",
    "elif width < height:\n",
    "    print(\"portrait\")\n",
    "elif width == height:\n",
    "    print(\"square\")"
   ]
  },
  {
   "cell_type": "code",
   "execution_count": 3,
   "id": "f98dc3b4",
   "metadata": {},
   "outputs": [
    {
     "name": "stdout",
     "output_type": "stream",
     "text": [
      "width: 627, height: 1115\n",
      "portrait\n"
     ]
    }
   ],
   "source": [
    "file_path = Path.cwd() / 'portrait.jpeg'\n",
    "with Image.open(file_path) as img:\n",
    "    width, height = img.size\n",
    "print(f'width: {width}, height: {height}')\n",
    "if width > height:\n",
    "    print(\"landscape\")\n",
    "elif width < height:\n",
    "    print(\"portrait\")\n",
    "elif width == height:\n",
    "    print(\"square\")"
   ]
  },
  {
   "cell_type": "code",
   "execution_count": 4,
   "id": "dc8d03b5",
   "metadata": {},
   "outputs": [
    {
     "name": "stdout",
     "output_type": "stream",
     "text": [
      "width: 880, height: 880\n",
      "square\n"
     ]
    }
   ],
   "source": [
    "file_path = Path.cwd() / 'square.png'\n",
    "with Image.open(file_path) as img:\n",
    "    width, height = img.size\n",
    "print(f'width: {width}, height: {height}')\n",
    "if width > height:\n",
    "    print(\"landscape\")\n",
    "elif width < height:\n",
    "    print(\"portrait\")\n",
    "elif width == height:\n",
    "    print(\"square\")"
   ]
  },
  {
   "cell_type": "code",
   "execution_count": null,
   "id": "afdb8b9b",
   "metadata": {},
   "outputs": [],
   "source": []
  }
 ],
 "metadata": {
  "kernelspec": {
   "display_name": "base",
   "language": "python",
   "name": "python3"
  },
  "language_info": {
   "codemirror_mode": {
    "name": "ipython",
    "version": 3
   },
   "file_extension": ".py",
   "mimetype": "text/x-python",
   "name": "python",
   "nbconvert_exporter": "python",
   "pygments_lexer": "ipython3",
   "version": "3.11.7"
  }
 },
 "nbformat": 4,
 "nbformat_minor": 5
}
