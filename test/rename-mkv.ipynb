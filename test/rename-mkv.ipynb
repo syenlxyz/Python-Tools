{
 "cells": [
  {
   "cell_type": "code",
   "execution_count": 10,
   "id": "1b242839",
   "metadata": {},
   "outputs": [],
   "source": [
    "from pathlib import Path\n",
    "import subprocess"
   ]
  },
  {
   "cell_type": "code",
   "execution_count": 11,
   "id": "8ef58d9d",
   "metadata": {},
   "outputs": [],
   "source": [
    "input_path = Path.cwd() / 'input'\n",
    "file_list = list(input_path.glob('*.mkv'))"
   ]
  },
  {
   "cell_type": "code",
   "execution_count": 12,
   "id": "adb33b6a",
   "metadata": {},
   "outputs": [],
   "source": [
    "for file_path in file_list:\n",
    "    subprocess.run(f'mkvpropedit \"{file_path}\" -e info -s title=\"{file_path.stem}\"')"
   ]
  },
  {
   "cell_type": "code",
   "execution_count": null,
   "id": "b2a1aa2f",
   "metadata": {},
   "outputs": [],
   "source": []
  }
 ],
 "metadata": {
  "kernelspec": {
   "display_name": "base",
   "language": "python",
   "name": "python3"
  },
  "language_info": {
   "codemirror_mode": {
    "name": "ipython",
    "version": 3
   },
   "file_extension": ".py",
   "mimetype": "text/x-python",
   "name": "python",
   "nbconvert_exporter": "python",
   "pygments_lexer": "ipython3",
   "version": "3.11.7"
  }
 },
 "nbformat": 4,
 "nbformat_minor": 5
}
