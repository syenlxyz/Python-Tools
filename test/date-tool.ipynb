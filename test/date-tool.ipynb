{
 "cells": [
  {
   "cell_type": "code",
   "execution_count": 22,
   "id": "8baabd2c",
   "metadata": {},
   "outputs": [],
   "source": [
    "from datetime import datetime\n",
    "import re"
   ]
  },
  {
   "cell_type": "code",
   "execution_count": 23,
   "id": "55ddab96",
   "metadata": {},
   "outputs": [],
   "source": [
    "def get_date_format(date_string):\n",
    "    date_regex = {\n",
    "        r'^\\d{4}-\\d{2}-\\d{2}$': '%Y-%m-%d',\n",
    "        r'^\\d{4}\\/\\d{2}\\/\\d{2}$': '%Y/%m/%d',\n",
    "        r'^\\d{4}\\.\\d{2}\\.\\d{2}$': '%Y.%m.%d',\n",
    "        r'^\\d{2}-\\d{2}-\\d{4}$': '%d-%m-%Y',\n",
    "        r'^\\d{2}\\/\\d{2}\\/\\d{4}$': '%d/%m/%Y',\n",
    "        r'^\\d{2}\\.\\d{2}\\.\\d{4}$': '%d.%m.%Y',\n",
    "        r'^\\d{2} [A-Za-z]{3} \\d{4}$': '%d %b %Y',\n",
    "        r'^\\d{2} [A-Za-z]+ \\d{4}$': '%d %B %Y',\n",
    "        r'^[A-Za-z]{3} \\d{2}, \\d{4}$': '%b %d, %Y',\n",
    "        r'^[A-Za-z]+ \\d{2}, \\d{4}$': '%B %d, %Y'\n",
    "    }\n",
    "    patterns = list(date_regex.keys())\n",
    "    for pattern in patterns:\n",
    "        if re.match(pattern, date_string):\n",
    "            date_format = date_regex[pattern]\n",
    "            return date_format"
   ]
  },
  {
   "cell_type": "code",
   "execution_count": 24,
   "id": "2206dab7",
   "metadata": {},
   "outputs": [],
   "source": [
    "def get_date_object(date_string):\n",
    "    date_format = get_date_format(date_string)\n",
    "    date_object = datetime.strptime(date_string, date_format)\n",
    "    return date_object"
   ]
  },
  {
   "cell_type": "code",
   "execution_count": 25,
   "id": "4f033524",
   "metadata": {},
   "outputs": [],
   "source": [
    "start_date = get_date_object('20/06/2024')\n",
    "end_date = get_date_object('2025-08-16')"
   ]
  },
  {
   "cell_type": "code",
   "execution_count": 26,
   "id": "7e9cb7ce",
   "metadata": {},
   "outputs": [
    {
     "name": "stdout",
     "output_type": "stream",
     "text": [
      "422 days, 0:00:00\n"
     ]
    }
   ],
   "source": [
    "date_difference = end_date - start_date\n",
    "print(date_difference)"
   ]
  },
  {
   "cell_type": "code",
   "execution_count": 27,
   "metadata": {},
   "outputs": [
    {
     "data": {
      "text/plain": [
       "datetime.datetime(2024, 6, 20, 0, 0)"
      ]
     },
     "execution_count": 27,
     "metadata": {},
     "output_type": "execute_result"
    }
   ],
   "source": [
    "start_date"
   ]
  },
  {
   "cell_type": "code",
   "execution_count": 28,
   "id": "1ef3b96b",
   "metadata": {},
   "outputs": [
    {
     "data": {
      "text/plain": [
       "(2024, 6, 20)"
      ]
     },
     "execution_count": 28,
     "metadata": {},
     "output_type": "execute_result"
    }
   ],
   "source": [
    "start_date.year, start_date.month, start_date.day"
   ]
  },
  {
   "cell_type": "code",
   "execution_count": 29,
   "id": "8f7828d3",
   "metadata": {},
   "outputs": [
    {
     "data": {
      "text/plain": [
       "(2025, 8, 16)"
      ]
     },
     "execution_count": 29,
     "metadata": {},
     "output_type": "execute_result"
    }
   ],
   "source": [
    "end_date.year, end_date.month, end_date.day"
   ]
  },
  {
   "cell_type": "code",
   "execution_count": 30,
   "id": "2ff22211",
   "metadata": {},
   "outputs": [
    {
     "data": {
      "text/plain": [
       "(1, 2, -4)"
      ]
     },
     "execution_count": 30,
     "metadata": {},
     "output_type": "execute_result"
    }
   ],
   "source": [
    "end_date.year - start_date.year, end_date.month - start_date.month, end_date.day - start_date.day"
   ]
  },
  {
   "cell_type": "code",
   "execution_count": 17,
   "id": "3af38626",
   "metadata": {},
   "outputs": [
    {
     "data": {
      "text/plain": [
       "(2025, 7)"
      ]
     },
     "execution_count": 17,
     "metadata": {},
     "output_type": "execute_result"
    }
   ],
   "source": [
    "end_date.year, end_date.month - 1"
   ]
  },
  {
   "cell_type": "code",
   "execution_count": 19,
   "id": "46daf200",
   "metadata": {},
   "outputs": [],
   "source": [
    "from calendar import monthrange, monthcalendar"
   ]
  },
  {
   "cell_type": "code",
   "execution_count": 20,
   "id": "7c43280b",
   "metadata": {},
   "outputs": [
    {
     "data": {
      "text/plain": [
       "(calendar.TUESDAY, 31)"
      ]
     },
     "execution_count": 20,
     "metadata": {},
     "output_type": "execute_result"
    }
   ],
   "source": [
    "monthrange(end_date.year, end_date.month - 1)"
   ]
  },
  {
   "cell_type": "code",
   "execution_count": 21,
   "id": "566bea3d",
   "metadata": {},
   "outputs": [
    {
     "data": {
      "text/plain": [
       "[[0, 1, 2, 3, 4, 5, 6],\n",
       " [7, 8, 9, 10, 11, 12, 13],\n",
       " [14, 15, 16, 17, 18, 19, 20],\n",
       " [21, 22, 23, 24, 25, 26, 27],\n",
       " [28, 29, 30, 31, 0, 0, 0]]"
      ]
     },
     "execution_count": 21,
     "metadata": {},
     "output_type": "execute_result"
    }
   ],
   "source": [
    "monthcalendar(end_date.year, end_date.month - 1)"
   ]
  },
  {
   "cell_type": "code",
   "execution_count": null,
   "id": "787f32b5",
   "metadata": {},
   "outputs": [],
   "source": []
  },
  {
   "cell_type": "code",
   "execution_count": null,
   "metadata": {},
   "outputs": [],
   "source": []
  },
  {
   "cell_type": "code",
   "execution_count": null,
   "metadata": {},
   "outputs": [],
   "source": []
  },
  {
   "cell_type": "code",
   "execution_count": null,
   "metadata": {},
   "outputs": [],
   "source": []
  },
  {
   "cell_type": "code",
   "execution_count": null,
   "id": "6cf69462",
   "metadata": {},
   "outputs": [],
   "source": []
  },
  {
   "cell_type": "code",
   "execution_count": null,
   "id": "600b851d",
   "metadata": {},
   "outputs": [],
   "source": [
    "from datetime import datetime\n",
    "\n",
    "# Define two dates\n",
    "date1 = datetime(2023, 10, 1)\n",
    "date2 = datetime(2023, 10, 15)\n",
    "\n",
    "# Calculate the difference\n",
    "difference = date2 - date1\n",
    "print(f\"The difference between the two dates is {difference.days} days.\")"
   ]
  },
  {
   "cell_type": "code",
   "execution_count": null,
   "id": "de41ff06",
   "metadata": {},
   "outputs": [],
   "source": [
    "from datetime import date\n",
    "from calendar import monthrange\n",
    "\n",
    "# Convert datetime objects to date objects to ignore time\n",
    "start_date_only = start_date.date()\n",
    "end_date_only = end_date.date()\n",
    "\n",
    "# Calculate the difference\n",
    "date_diff = end_date_only - start_date_only\n",
    "print(f\"Difference: {date_diff.days} days\")\n",
    "\n",
    "# Calculate years, months, days\n",
    "years = end_date_only.year - start_date_only.year\n",
    "months = end_date_only.month - start_date_only.month\n",
    "days = end_date_only.day - start_date_only.day\n",
    "\n",
    "if days < 0:\n",
    "    months -= 1\n",
    "    # Get the number of days in the previous month\n",
    "    prev_month = (end_date_only.month - 1) or 12\n",
    "    prev_year = end_date_only.year if end_date_only.month != 1 else end_date_only.year - 1\n",
    "    days += monthrange(prev_year, prev_month)[1]\n",
    "\n",
    "if months < 0:\n",
    "    years -= 1\n",
    "    months += 12\n",
    "\n",
    "print(f\"Difference: {years} years, {months} months, {days} days\")"
   ]
  },
  {
   "cell_type": "code",
   "execution_count": null,
   "id": "2290ec0c",
   "metadata": {},
   "outputs": [],
   "source": [
    "from datetime import timedelta\n",
    "\n",
    "# Specify the duration (e.g., 7 days)\n",
    "duration = timedelta(days=7)\n",
    "\n",
    "# Calculate date before and after the duration from date1\n",
    "date_before = date1 - duration\n",
    "date_after = date1 + duration\n",
    "\n",
    "print(f\"Date {duration.days} days before {date1.date()}: {date_before.date()}\")\n",
    "print(f\"Date {duration.days} days after {date1.date()}: {date_after.date()}\")"
   ]
  },
  {
   "cell_type": "code",
   "execution_count": null,
   "id": "ce0f06c7",
   "metadata": {},
   "outputs": [],
   "source": [
    "from datetime import time, datetime\n",
    "\n",
    "# Define two times\n",
    "t1 = time(8, 30, 0)\n",
    "t2 = time(15, 45, 0)\n",
    "\n",
    "# Convert to datetime objects with the same date\n",
    "dt1 = datetime.combine(datetime.today(), t1)\n",
    "dt2 = datetime.combine(datetime.today(), t2)\n",
    "\n",
    "# Calculate the difference\n",
    "time_diff = dt2 - dt1\n",
    "print(f\"The difference between the two times is {time_diff}.\")"
   ]
  },
  {
   "cell_type": "code",
   "execution_count": null,
   "id": "4a6e3ce7",
   "metadata": {},
   "outputs": [],
   "source": []
  },
  {
   "cell_type": "code",
   "execution_count": null,
   "id": "eb25edf3",
   "metadata": {},
   "outputs": [],
   "source": []
  },
  {
   "cell_type": "code",
   "execution_count": null,
   "id": "ea9d4f14",
   "metadata": {},
   "outputs": [],
   "source": []
  },
  {
   "cell_type": "code",
   "execution_count": null,
   "id": "568572b1",
   "metadata": {},
   "outputs": [],
   "source": []
  }
 ],
 "metadata": {
  "kernelspec": {
   "display_name": "base",
   "language": "python",
   "name": "python3"
  },
  "language_info": {
   "codemirror_mode": {
    "name": "ipython",
    "version": 3
   },
   "file_extension": ".py",
   "mimetype": "text/x-python",
   "name": "python",
   "nbconvert_exporter": "python",
   "pygments_lexer": "ipython3",
   "version": "3.12.4"
  }
 },
 "nbformat": 4,
 "nbformat_minor": 5
}
